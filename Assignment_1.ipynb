{
  "nbformat": 4,
  "nbformat_minor": 0,
  "metadata": {
    "colab": {
      "provenance": []
    },
    "kernelspec": {
      "name": "python3",
      "display_name": "Python 3"
    },
    "language_info": {
      "name": "python"
    }
  },
  "cells": [
    {
      "cell_type": "code",
      "execution_count": null,
      "metadata": {
        "colab": {
          "base_uri": "https://localhost:8080/"
        },
        "id": "vSi1cpSNE58l",
        "outputId": "803e2d48-e390-475b-c73c-9544fc88a6f7"
      },
      "outputs": [
        {
          "output_type": "stream",
          "name": "stdout",
          "text": [
            "Enter temperature in centigrade: 35.5\n",
            "Temperature in Farenheit: 95.9\n"
          ]
        }
      ],
      "source": [
        "# Program to read Celsius temperature and print equivalent Farenheit temperature on screen\n",
        "num1 = float(input('Enter temperature in centigrade: '))\n",
        "faren = 1.8 * num1 + 32\n",
        "print('Temperature in Farenheit:', faren)"
      ]
    },
    {
      "cell_type": "code",
      "source": [
        "# Read radius of the circle from user and find the area and perimeter of it\n",
        "import math\n",
        "rad = float(input('Enter the radius of circle in cm: '))\n",
        "ar = float(math.pi * rad**2)\n",
        "peri = float(2 * math.pi * rad)\n",
        "print ('Area of the circle is: %.2f sq. cm' %(ar))\n",
        "print ('Perimeter of the circle is: %.2f cm' %(peri))\n"
      ],
      "metadata": {
        "colab": {
          "base_uri": "https://localhost:8080/"
        },
        "id": "m0xPNDkTFlPD",
        "outputId": "53851606-42f7-47be-bba1-7fdefba9a4cb"
      },
      "execution_count": null,
      "outputs": [
        {
          "output_type": "stream",
          "name": "stdout",
          "text": [
            "Enter the radius of circle in cm: 3.4\n",
            "Area of the circle is: 36.32 sq. cm\n",
            "Perimeter of the circle is: 21.36 cm\n"
          ]
        }
      ]
    },
    {
      "cell_type": "code",
      "source": [
        "#Read the amount and percentage of interest from the keyboard and find final amount after adding interest in original amount.\n",
        "amt = float(input('Entter the amount borrowed in Rs: '))\n",
        "interest = float(input('Enter the % of interest: '))\n",
        "total_amt = amt + (interest * amt)/ 100\n",
        "print ('Final amount to be paid: ', total_amt )"
      ],
      "metadata": {
        "colab": {
          "base_uri": "https://localhost:8080/"
        },
        "id": "EcvP46YmIG7k",
        "outputId": "86490265-35ba-4e0d-e031-07eea9eaa890"
      },
      "execution_count": null,
      "outputs": [
        {
          "output_type": "stream",
          "name": "stdout",
          "text": [
            "Entter the amount borrowed in Rs: 250000\n",
            "Enter the % of interest: 9.5\n",
            "Final amount to be paid:  273750.0\n"
          ]
        }
      ]
    },
    {
      "cell_type": "code",
      "source": [
        "# Write a program to read distance value in meters and convert it into centimeters, inches, and yards\n",
        "dist = float(input('Enter distance value in meters: '))\n",
        "cent = float(100 * dist)\n",
        "inch = float(39.26 * dist)\n",
        "yard = float(1.0936 * dist)\n",
        "print ('The distance in centemeters is %.2f cm' %(cent))\n",
        "print ('The distance in inches is %.2f inches' %(inch))\n",
        "print ('The distance in yards is %.2f yards' %(yard))"
      ],
      "metadata": {
        "colab": {
          "base_uri": "https://localhost:8080/"
        },
        "id": "ERtRAy6VOu3M",
        "outputId": "7b0ab8d4-4ebf-45ab-804f-73d0606774fc"
      },
      "execution_count": null,
      "outputs": [
        {
          "output_type": "stream",
          "name": "stdout",
          "text": [
            "Enter distance value in meters: 2.5\n",
            "The distance in centemeters is 250.00 cm\n",
            "The distance in inches is 98.15 inches\n",
            "The distance in yards is 2.73 yards\n"
          ]
        }
      ]
    },
    {
      "cell_type": "code",
      "source": [
        "#Write a Python program to calculate profit or loss. Input is selling cost and actual cost of a product\n",
        "sp = float(input('Enter the selling price in Rs. '))\n",
        "cp = float(input('Enter the cost price in Rs. '))\n",
        "amt = sp -cp\n",
        "p = int((sp -cp) * cp / 100)\n",
        "if cp > sp:\n",
        "  print('The product was sold at a loss of %i percent' %(p))\n",
        "elif sp == cp:\n",
        "  print('The product was sold without a loss or profit')\n",
        "else:\n",
        "  print('The product was sold at a profit of %i percent' %(p))"
      ],
      "metadata": {
        "colab": {
          "base_uri": "https://localhost:8080/"
        },
        "id": "fhOQFPO1R5CI",
        "outputId": "3747155e-b0e6-4b66-b304-c1d7927c3dec"
      },
      "execution_count": null,
      "outputs": [
        {
          "output_type": "stream",
          "name": "stdout",
          "text": [
            "Enter the selling price in Rs. 99\n",
            "Enter the cost price in Rs. 85.5\n",
            "The product was sold at a profit of 11 percent\n"
          ]
        }
      ]
    },
    {
      "cell_type": "code",
      "source": [
        "#Write a program to input basic salary and find output of gross salary\n",
        "basic = float(input('Enter the basic salary in Rs.: '))\n",
        "DA = 0.75 * basic\n",
        "HRA = 0.2 * basic\n",
        "if (basic >= 10000) and (basic < 20000):\n",
        "  gross = DA + basic + .5 *HRA\n",
        "elif basic < 10000:\n",
        "  gross = DA + basic\n",
        "else:\n",
        "  gross = basic + DA + HRA\n",
        "print('The gross salary is: Rs.', gross)\n"
      ],
      "metadata": {
        "colab": {
          "base_uri": "https://localhost:8080/"
        },
        "id": "dlAGQrN2cWOX",
        "outputId": "215bf37d-1e2a-4a3b-ce1a-94d3e0e1d4b3"
      },
      "execution_count": null,
      "outputs": [
        {
          "output_type": "stream",
          "name": "stdout",
          "text": [
            "Enter the basic salary in Rs.: 8000\n",
            "The gross salary is: Rs. 14000.0\n"
          ]
        }
      ]
    },
    {
      "cell_type": "code",
      "source": [
        "#Write a program to read a number from user and find the factorial of the number\n",
        "import math\n",
        "num1 = int(input('Enter the number whose factorial is to be calculated: '))\n",
        "print('The factorial is: ', math.factorial(num1))"
      ],
      "metadata": {
        "colab": {
          "base_uri": "https://localhost:8080/"
        },
        "id": "f4duw2MzhDXG",
        "outputId": "9147ebe5-4ed6-49a6-edeb-19145f92276f"
      },
      "execution_count": null,
      "outputs": [
        {
          "output_type": "stream",
          "name": "stdout",
          "text": [
            "Enter the number whose factorial is to be calculated: 12\n",
            "The factorial is:  479001600\n"
          ]
        }
      ]
    },
    {
      "cell_type": "code",
      "source": [
        "#Write a program to read num1 and num2 from keyboard and find addition of all number between that range\n",
        "n1 = int(input('Enter first number: '))\n",
        "n2 = int(input('Enter second number: '))\n",
        "s = sum(range(n1,n2))\n",
        "print ('The sum of all numbers between %i and %i' %(n1,n2), 'is ', s)\n",
        "\n"
      ],
      "metadata": {
        "colab": {
          "base_uri": "https://localhost:8080/"
        },
        "id": "rO7KtyE2mnzf",
        "outputId": "11b483fb-b166-4594-e24e-59c9b7d33281"
      },
      "execution_count": null,
      "outputs": [
        {
          "output_type": "stream",
          "name": "stdout",
          "text": [
            "Enter first number: 3\n",
            "Enter second number: 7\n",
            "The sum of all numbers between 3 and 7 is  18\n"
          ]
        }
      ]
    },
    {
      "cell_type": "code",
      "source": [
        "# tuple given: num = (56,2,35,41,43,48,32,56,71,55,68)\n",
        "# Write a program to create two lists from it where first list contains only even numbers and second will contain only odd numbers\n",
        "tup = (56,2,35,41,43,48,32,56,71,55,68)\n",
        "e = []\n",
        "o = []\n",
        "for n in tup:\n",
        "  if n%2 == 0:\n",
        "    e.append(n)\n",
        "  else:\n",
        "    o.append(n)\n",
        "print ('Even numbers: ', e)\n",
        "print ('Odd number: ', o)\n"
      ],
      "metadata": {
        "colab": {
          "base_uri": "https://localhost:8080/"
        },
        "id": "uvFGaXYWoxjO",
        "outputId": "6173ea3e-a049-4966-d523-eea1ec36ed6b"
      },
      "execution_count": null,
      "outputs": [
        {
          "output_type": "stream",
          "name": "stdout",
          "text": [
            "Even numbers:  [56, 2, 48, 32, 56, 68]\n",
            "Odd number:  [35, 41, 43, 71, 55]\n"
          ]
        }
      ]
    },
    {
      "cell_type": "code",
      "source": [
        "# Write a program to read a number from user. Create and use a user defined function to check whether it is odd or even\n",
        "def is_odd(n5):\n",
        "  if n5%2 != 0:\n",
        "    odd = True\n",
        "  else:\n",
        "    odd = False\n",
        "  #print(odd)\n",
        "  return odd\n",
        "n5 = int(input('Enter a number to be checked: '))\n",
        "value = is_odd(n5)\n",
        "if value:\n",
        "  print('This is an odd number')\n",
        "else:\n",
        "  print('This is an even number')\n",
        "#print(value)"
      ],
      "metadata": {
        "colab": {
          "base_uri": "https://localhost:8080/"
        },
        "id": "Vr0ig79C4JSh",
        "outputId": "dc83a440-bae7-475d-c9fe-2746fd6ceab7"
      },
      "execution_count": 10,
      "outputs": [
        {
          "output_type": "stream",
          "name": "stdout",
          "text": [
            "Enter a number to be checked: 641\n",
            "This is an odd number\n"
          ]
        }
      ]
    },
    {
      "cell_type": "code",
      "source": [
        "# Write a program to read a number from user and find the square root, sin, tan, log and factorial of this number using math module\n",
        "import math\n",
        "num2 = int(input('enter the number: '))\n",
        "print('Sqaure root: ', math.sqrt(num2))\n",
        "print('Sin: ', math.sin(num2))\n",
        "print('tan: ', math.tan(num2))\n",
        "print('log: ', math.log(num2))\n",
        "print('factorial: ', math.factorial(num2))"
      ],
      "metadata": {
        "colab": {
          "base_uri": "https://localhost:8080/"
        },
        "id": "_ihIXz0u7mxS",
        "outputId": "a0075e38-3a97-4d20-93ea-e734f17d58f1"
      },
      "execution_count": null,
      "outputs": [
        {
          "output_type": "stream",
          "name": "stdout",
          "text": [
            "enter the number: 3\n",
            "Sqaure root:  1.7320508075688772\n",
            "Sin:  0.1411200080598672\n",
            "tan:  -0.1425465430742778\n",
            "log:  1.0986122886681098\n",
            "factorial:  6\n"
          ]
        }
      ]
    },
    {
      "cell_type": "code",
      "source": [
        "from re import X\n",
        "#Write a Python class named ‘Rectangle’ with two attributes length and width and\n",
        "#a method named ‘calculate’ which will compute the area of a rectangle. Create an\n",
        "#object to pass length and width and call the method to calculate the area of\n",
        "#rectangle\n",
        "class Rectangle:\n",
        "  def __init__(self, l, w):\n",
        "    self.length = l\n",
        "    self.width = w\n",
        "  def area(self):\n",
        "    x = self.length*self.width\n",
        "    print('My rectangle:', self.length, self.width)\n",
        "    print ('Area of my recatngle is: ', x)\n",
        "    return x\n",
        "\n",
        "obj = Rectangle(4,5)\n",
        "obj.area()"
      ],
      "metadata": {
        "id": "zdL8YaQr_p1z",
        "colab": {
          "base_uri": "https://localhost:8080/"
        },
        "outputId": "1b64cf6c-0016-4ab0-9db3-38326353a587"
      },
      "execution_count": 25,
      "outputs": [
        {
          "output_type": "stream",
          "name": "stdout",
          "text": [
            "My rectangle: 4 5\n",
            "Area of my recatngle is:  20\n"
          ]
        },
        {
          "output_type": "execute_result",
          "data": {
            "text/plain": [
              "20"
            ]
          },
          "metadata": {},
          "execution_count": 25
        }
      ]
    },
    {
      "cell_type": "code",
      "source": [],
      "metadata": {
        "id": "LgyJ7bSArsPg"
      },
      "execution_count": null,
      "outputs": []
    }
  ]
}